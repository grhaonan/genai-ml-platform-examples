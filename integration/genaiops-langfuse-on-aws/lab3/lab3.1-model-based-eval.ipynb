{
 "cells": [
  {
   "attachments": {},
   "cell_type": "markdown",
   "id": "6d8b8be2-25d0-4fd8-adb3-57857424ed84",
   "metadata": {},
   "source": [
    "# Lab 3.1: Evaluate Langfuse Traces using an external evaluation pipeline\n",
    "\n",
    "#### An external evaluation pipeline is useful when you need:\n",
    "- More control over when traces get evaluated. You could schedule the pipeline to run at specific times or responding to event-based triggers like Webhooks.\n",
    "- Greater flexibility with your custom evaluations, when your needs go beyond what’s possible with the Langfuse UI\n",
    "- Version control for your custom evaluations\n",
    "- The ability to evaluate data using existing evaluation frameworks and pre-defined metrics\n",
    "\n",
    "In this notebook, we will learn to implement a external evaluation pipeline by doing the following:\n",
    "1. Create a synthetic dataset to test your models.\n",
    "2. Use the Langfuse client to gather and filter traces of previous model runs\n",
    "3. Evaluate these traces offline and incrementally\n",
    "4. Add scores to existing Langfuse traces"
   ]
  },
  {
   "cell_type": "markdown",
   "id": "699cf5b2",
   "metadata": {},
   "source": [
    "## Prerequisites\n",
    "\n",
    "> ℹ️ You can **skip these prerequisite steps** if you're in an instructor-led workshop using temporary accounts provided by AWS"
   ]
  },
  {
   "cell_type": "code",
   "execution_count": null,
   "id": "fd76becf-bfb8-48d5-bc3b-ca6b29413351",
   "metadata": {
    "scrolled": true
   },
   "outputs": [],
   "source": [
    "# Uncomment the following line to install dependencies if you are not using AWS workshop environment\n",
    "!uv pip install --force-reinstall -U -r ./requirements.txt --quiet"
   ]
  },
  {
   "cell_type": "markdown",
   "id": "a9d5edad",
   "metadata": {},
   "source": [
    "Please make sure you have completed the prerequisites to setup the Langfuse project and API keys in the .env file to connect to self-hosted or cloud Langfuse environment.\n",
    "\n",
    "1. Navigate to the directory `genai-ml-platform-examples/integration/genaiops-langfuse-on-aws/` within your workshop environment.\n",
    "\n",
    "2. Locate the file named `.env.example` and create a copy of this file in the same directory, renaming the copy to `.env`.\n",
    "\n",
    "3. Open the `.env` file in your editor and prepare to add your actual Langfuse credentials. You will need three values from your Langfuse project settings under the API Keys section.\n",
    "\n",
    "The completed configuration in `.env` should follow this format:\n",
    "\n",
    "```\n",
    "LANGFUSE_PUBLIC_KEY=pk-lf-your-actual-public-key\n",
    "LANGFUSE_SECRET_KEY=sk-lf-your-actual-secret-key\n",
    "LANGFUSE_HOST=xxx\n",
    "```\n",
    "\n",
    "Save the file after adding your actual credential values. The notebook will load these environment variables automatically when executing the Langfuse integration exercises in agents two and three."
   ]
  },
  {
   "cell_type": "code",
   "execution_count": null,
   "id": "55842d20",
   "metadata": {},
   "outputs": [],
   "source": [
    "# If you completed the .env setup above, skip this cell.\n",
    "# Otherwise, uncomment and set your Langfuse credentials below:\n",
    "\n",
    "# import os\n",
    "# os.environ[\"LANGFUSE_SECRET_KEY\"] = \"sk-lf-...\"  # Your Langfuse project secret key\n",
    "# os.environ[\"LANGFUSE_PUBLIC_KEY\"] = \"pk-lf-...\"  # Your Langfuse project public key\n",
    "# os.environ[\"LANGFUSE_HOST\"] = \"xxx\"  # Your Langfuse host URL"
   ]
  },
  {
   "cell_type": "markdown",
   "id": "9a66d076",
   "metadata": {},
   "source": [
    "## Initialization and Authentication Check\n",
    "Run the following cells to initialize common libraries and clients."
   ]
  },
  {
   "cell_type": "code",
   "execution_count": null,
   "id": "2ea6967f-1a23-4029-b107-c38e2c74b53e",
   "metadata": {},
   "outputs": [],
   "source": [
    "import os\n",
    "import sys\n",
    "\n",
    "import boto3\n",
    "from dotenv import load_dotenv\n",
    "from langfuse.decorators import langfuse_context, observe\n",
    "\n",
    "\n",
    "load_dotenv(\"../.env\")"
   ]
  },
  {
   "cell_type": "markdown",
   "id": "bd5342ee",
   "metadata": {},
   "source": [
    "Initialize AWS Bedrock clients and check models available in your account."
   ]
  },
  {
   "cell_type": "code",
   "execution_count": null,
   "id": "c9823c3f-bfc3-4507-bc14-42bccda623f3",
   "metadata": {
    "scrolled": true
   },
   "outputs": [],
   "source": [
    "# used to access Bedrock configuration\n",
    "bedrock = boto3.client(service_name=\"bedrock\", region_name=\"us-west-2\")\n",
    "\n",
    "# Check if Nova models are available in this region\n",
    "models = bedrock.list_inference_profiles()\n",
    "nova_found = False\n",
    "for model in models[\"inferenceProfileSummaries\"]:\n",
    "    if (\n",
    "        \"Nova Pro\" in model[\"inferenceProfileName\"]\n",
    "        or \"Nova Lite\" in model[\"inferenceProfileName\"]\n",
    "        or \"Nova Micro\" in model[\"inferenceProfileName\"]\n",
    "    ):\n",
    "        print(f\"Found Nova model: {model['inferenceProfileName']} - {model['inferenceProfileId']}\")\n",
    "        nova_found = True\n",
    "if not nova_found:\n",
    "    raise ValueError(\"No Nova models found in available models. Please ensure you have access to Nova models.\")"
   ]
  },
  {
   "cell_type": "markdown",
   "id": "660e58d2",
   "metadata": {},
   "source": [
    "Initialize the Langfuse client and check credentials are valid."
   ]
  },
  {
   "cell_type": "code",
   "execution_count": null,
   "id": "fa452fcb",
   "metadata": {},
   "outputs": [],
   "source": [
    "from langfuse import Langfuse\n",
    "\n",
    "\n",
    "# langfuse client\n",
    "langfuse = Langfuse()\n",
    "if langfuse.auth_check():\n",
    "    print(\"Langfuse has been set up correctly\")\n",
    "    print(f\"You can access your Langfuse instance at: {os.environ['LANGFUSE_HOST']}\")\n",
    "else:\n",
    "    print(\"Credentials not found or invalid. Check your Langfuse API key and host in the .env file.\")"
   ]
  },
  {
   "cell_type": "markdown",
   "id": "3b511da7",
   "metadata": {},
   "source": [
    "### Langfuse Wrappers for Bedrock Converse API "
   ]
  },
  {
   "cell_type": "code",
   "execution_count": null,
   "id": "1b70cd7c",
   "metadata": {},
   "outputs": [],
   "source": [
    "sys.path.append(os.path.abspath(\"..\"))  # Add parent directory to path\n",
    "from config import MODEL_CONFIG\n",
    "from utils import converse"
   ]
  },
  {
   "cell_type": "markdown",
   "id": "c7ed397a-fd9c-47b1-8d42-cea1894ef30d",
   "metadata": {},
   "source": [
    "# Generate synthetic data\n",
    "\n",
    "In this notebook, we consider a use case of leveraging a LLM to generate product descriptions that can be used in advising the product on an e-commerce page. The first step is to generate a list of products and for each of them, instruct Amazon Nova Lite to \n",
    "generate brief product descriptions."
   ]
  },
  {
   "cell_type": "code",
   "execution_count": null,
   "id": "0e45d951-8f92-4a0a-8755-bf3b58df7910",
   "metadata": {},
   "outputs": [],
   "source": [
    "# Let's prompt the model to generate 50 products\n",
    "messages = [\n",
    "    {\n",
    "        \"role\": \"user\",\n",
    "        \"content\": \"For a variety of 50 different product categories sold on a e-commerce website, \\\n",
    "    generate one product that is interesting to a consumer. The product names should be reflective of the actual product being sold. \\\n",
    "    Generate the 50 product items as comma separated values. Do not generate any additional words apart from the product names\",\n",
    "    },\n",
    "]\n",
    "\n",
    "# Make the API call to the Nova Lite model\n",
    "model_response = converse(messages=messages, **MODEL_CONFIG[\"nova_lite\"])\n",
    "\n",
    "# Print the generated text\n",
    "print(\"\\n[Response Content Text]\")\n",
    "print(model_response)"
   ]
  },
  {
   "cell_type": "code",
   "execution_count": null,
   "id": "86b45f91-beb0-42ab-8741-1544027caa95",
   "metadata": {
    "scrolled": true
   },
   "outputs": [],
   "source": [
    "# check the model generation outputs\n",
    "products = [item.strip() for item in model_response.split(\",\")]\n",
    "\n",
    "for prd in products:\n",
    "    print(prd)"
   ]
  },
  {
   "cell_type": "markdown",
   "id": "6aa9f700-bd36-4625-b387-3ae16740a3d7",
   "metadata": {},
   "source": [
    "For each of the products, we will now generate product descriptions using Amazon Nova Lite, and capture the traces to Langfuse using the ```@observe()``` decorator"
   ]
  },
  {
   "cell_type": "code",
   "execution_count": null,
   "id": "e11c48c0-9ed1-409b-8b20-b46404b264ef",
   "metadata": {
    "scrolled": true
   },
   "outputs": [],
   "source": [
    "# Generate product descriptions for each product\n",
    "prompt_template = \"You are a product marketer and you need to generate detailed \\\n",
    "product descriptions for products which will be used for selling \\\n",
    "the product on a e-commerce website. Any catchy phrases from the \\\n",
    "descriptions will also be used for social meda campaigns. \\\n",
    "From the product descriptions, customers should be able to understand \\\n",
    "how the product can help them in their lives but also be able to trust \\\n",
    "this company. Your descriptions are fun and engaging. \\\n",
    "Your answer should be 4 sentences at max.\"\n",
    "\n",
    "\n",
    "@observe(name=\"Batch Product Description Generation\")\n",
    "def main():\n",
    "    langfuse_context.update_current_trace(\n",
    "        user_id=\"nova-user-1\",\n",
    "        session_id=\"nova-batch-generation-session\",\n",
    "        tags=[\"lab3.1\"],\n",
    "    )\n",
    "\n",
    "    for product in products:\n",
    "        print(f\"Input: Generate a description for {product}\")\n",
    "        messages = [\n",
    "            {\"role\": \"system\", \"content\": prompt_template},\n",
    "            {\"role\": \"user\", \"content\": f\"Generate a description for {product}\"},\n",
    "        ]\n",
    "        response = converse(messages, metadata={\"product\": product}, **MODEL_CONFIG[\"nova_lite\"])\n",
    "        print(f\"Output: {response} \\n\")\n",
    "\n",
    "\n",
    "main()\n",
    "\n",
    "langfuse_context.flush()"
   ]
  },
  {
   "cell_type": "markdown",
   "id": "63401ad3",
   "metadata": {},
   "source": [
    "Now you should see these product descriptions in the Traces section of the langfuse UI.\n",
    "\n",
    "![Traces collected from the LLM generations](./images/product_description_traces.png \"Langfuse Traces\")\n"
   ]
  },
  {
   "cell_type": "markdown",
   "id": "91c1d0dd-370e-4053-a90a-c3ddfb095677",
   "metadata": {},
   "source": [
    "The goal of this tutorial is to show you how to build an model-based evaluation pipeline. These pipelines will run in your CI/CD environment, or be run in a different orchestrated container service. No matter the environment you choose, three key steps always apply:\n",
    "\n",
    "1. Fetch Your Traces: Get your application traces to your evaluation environment\n",
    "2. Run Your Evaluations: Apply any evaluation logic you prefer\n",
    "3. Save Your Results: Attach your evaluations back to the Langfuse trace used for calculating them.\n",
    "\n",
    "***\n",
    "Goal: This evaluation pipeline is executed on all the traces over the past 24 hours\n",
    "***"
   ]
  },
  {
   "cell_type": "markdown",
   "id": "0762d57d-ad9d-4157-a055-4f1cd68bee0f",
   "metadata": {},
   "source": [
    "## 1. Fetch the traces\n",
    "\n",
    "The ```fetch_traces()``` function has arguments to filter the traces by tags, timestamps, and beyond. We can also choose the number of samples for pagination."
   ]
  },
  {
   "cell_type": "code",
   "execution_count": null,
   "id": "cb9280ea-d355-40ee-ab59-b91715e16a55",
   "metadata": {},
   "outputs": [],
   "source": [
    "from datetime import datetime, timedelta\n",
    "\n",
    "\n",
    "now = datetime.now()\n",
    "last_24_hours = now - timedelta(days=1)\n",
    "\n",
    "traces_batch = langfuse.fetch_traces(\n",
    "    page=1,\n",
    "    limit=1,\n",
    "    tags=\"lab3.1\",\n",
    "    session_id=\"nova-batch-generation-session\",\n",
    "    from_timestamp=last_24_hours,\n",
    "    to_timestamp=datetime.now(),\n",
    ").data\n",
    "\n",
    "print(f\"Trace ID: {traces_batch[0].id}\")"
   ]
  },
  {
   "cell_type": "code",
   "execution_count": null,
   "id": "1e9ce965",
   "metadata": {},
   "outputs": [],
   "source": [
    "observations = langfuse.fetch_observations(trace_id=traces_batch[0].id, type=\"GENERATION\").data\n",
    "observations[0].output"
   ]
  },
  {
   "cell_type": "markdown",
   "id": "06ff8eea-302e-44ee-a4bf-7595c848f872",
   "metadata": {},
   "source": [
    "## 2. Categorical Evaluation using LLM-as-a-judge\n",
    "\n",
    "Evaluation functions should take a trace as input and yield a valid score.\n",
    "When analyzing the outputs of your LLM applications, you may want to evaluate traits that are defined qualitatively such as readability, helpfulness or measures for reducing hallucinations such as completeness.\n",
    "\n",
    "We're building product descriptions and to ensure it resonates with customers, we want to measure readability. For more LLM-as-a-judge definitions, check out the judge based evaluator prompts defined in the [Amazon Bedrock Evaluator Prompts](https://docs.aws.amazon.com/bedrock/latest/userguide/model-evaluation-type-judge-prompt.html)"
   ]
  },
  {
   "cell_type": "code",
   "execution_count": null,
   "id": "dbe7fe3a-0ce0-408a-a68b-1b79a11aab29",
   "metadata": {
    "scrolled": true
   },
   "outputs": [],
   "source": [
    "template_readability = \"\"\"\n",
    "You are a helpful agent that can assess an LLM response according to the given rubrics.\n",
    "\n",
    "You are given a product description generated by a LLM. Your task is to assess the readability of the LLM response to the question, in other words, how easy it is for a typical reading audience to comprehend the response at a normal reading rate.\n",
    "\n",
    "Please rate the readability of the response based on the following scale:\n",
    "- unreadable: The response contains gibberish or could not be comprehended by any normal audience.\n",
    "- poor readability: The response is comprehensible, but it is full of poor readability factors that make comprehension very challenging.\n",
    "- fair readability: The response is comprehensible, but there is a mix of poor readability and good readability factors, so the average reader would need to spend some time processing the text in order to understand it.\n",
    "- good readability: Very few poor readability factors. Mostly clear, well-structured sentences. Standard vocabulary with clear context for any challenging words. Clear organization with topic sentences and supporting details. The average reader could comprehend by reading through quickly one time.\n",
    "- excellent readability: No poor readability factors. Consistently clear, concise, and varied sentence structures. Simple, widely understood vocabulary. Logical organization with smooth transitions between ideas. The average reader may be able to skim the text and understand all necessary points.\n",
    "\n",
    "Here is the product description that needs to be evaluated: {prd_desc}\n",
    "\n",
    "Firstly explain your response, followed by your final answer. You should follow the format\n",
    "Explanation: [Explanation], Answer: [Answer],\n",
    "where '[Answer]' can be one of the following:\n",
    "```\n",
    "unreadable\n",
    "poor readability\n",
    "fair readability\n",
    "good readability\n",
    "excellent readability\n",
    "```\n",
    "\"\"\"\n",
    "\n",
    "\n",
    "@observe(name=\"Readability Evaluation\")\n",
    "def generate_readability_score(trace_output):\n",
    "    prd_desc_readability = template_readability.format(prd_desc=trace_output)\n",
    "    # query = [f\"Rate the readability of product description: {traces_batch[1].output}\"]\n",
    "    readability_score = converse(\n",
    "        messages=[{\"role\": \"user\", \"content\": prd_desc_readability}], **MODEL_CONFIG[\"nova_pro\"]\n",
    "    )\n",
    "    explanation, score = readability_score.split(\"\\n\\n\")\n",
    "    return explanation, score\n",
    "\n",
    "\n",
    "print(f\"User query: {observations[0].input[1]['content']}\")\n",
    "print(f\"Model answer: {observations[0].output}\")\n",
    "explanation, score = generate_readability_score(observations[0].output)\n",
    "print(f\"Readability: {score}, Explanation: {explanation}\")"
   ]
  },
  {
   "cell_type": "markdown",
   "id": "9ffa4aea-f139-43db-8f81-ead648d05029",
   "metadata": {},
   "source": [
    "## 3. Add the evaluation to the trace\n",
    "\n",
    "Now that we have generated a readability score as well as a explanation, we can use the Langfuse client to add scores to existing traces."
   ]
  },
  {
   "cell_type": "code",
   "execution_count": null,
   "id": "f936b040-4fff-47ae-91ef-cd5c16db3f45",
   "metadata": {},
   "outputs": [],
   "source": [
    "langfuse.score(\n",
    "    trace_id=traces_batch[0].id,\n",
    "    observation_id=observations[0].id,\n",
    "    name=\"readability\",\n",
    "    value=score,\n",
    "    comment=explanation,\n",
    ")"
   ]
  },
  {
   "cell_type": "markdown",
   "id": "b6a8fee5-a484-4a58-b0d0-72022bfc8f08",
   "metadata": {},
   "source": [
    "# Putting everything together\n",
    "\n",
    "We just saw how to do this for one trace, let's put it all together in a function to run it on all the traces collected in the last 24 hours."
   ]
  },
  {
   "cell_type": "code",
   "execution_count": null,
   "id": "0288a48c-8703-419c-99a7-a2fc1f3ac1fd",
   "metadata": {},
   "outputs": [],
   "source": [
    "@observe(name=\"Batch Readability Evaluation\")\n",
    "def batch_evaluate():\n",
    "    langfuse_context.update_current_trace(\n",
    "        user_id=\"nova-user-1\",\n",
    "        session_id=\"nova-batch-evals-session\",\n",
    "        tags=[\"lab3.1\"],\n",
    "    )\n",
    "    traces_batch = langfuse.fetch_traces(\n",
    "        page=1,\n",
    "        limit=1,\n",
    "        tags=\"lab3.1\",\n",
    "        session_id=\"nova-batch-generation-session\",\n",
    "        from_timestamp=last_24_hours,\n",
    "        to_timestamp=datetime.now(),\n",
    "    ).data\n",
    "\n",
    "    observations = langfuse.fetch_observations(trace_id=traces_batch[0].id, type=\"GENERATION\").data\n",
    "\n",
    "    for observation in observations[-5:]:  # Only evaluate the last 5 observations to save time\n",
    "        print(f\"Processing {observation.id}\")\n",
    "        if observation.output is None:\n",
    "            print(\n",
    "                f\"Warning: \\n Trace {observation.id} had no generated output, \\\n",
    "            it was skipped\"\n",
    "            )\n",
    "            continue\n",
    "        explanation, score = generate_readability_score(observation.output)\n",
    "        langfuse.score(\n",
    "            trace_id=traces_batch[0].id,\n",
    "            observation_id=observation.id,\n",
    "            name=\"readability\",\n",
    "            value=score,\n",
    "            comment=explanation,\n",
    "        )"
   ]
  },
  {
   "cell_type": "code",
   "execution_count": null,
   "id": "e3e60d57",
   "metadata": {},
   "outputs": [],
   "source": [
    "batch_evaluate()\n",
    "\n",
    "langfuse_context.flush()"
   ]
  },
  {
   "cell_type": "markdown",
   "id": "d9d8ed8e-bfb4-471d-a085-47863214b5b1",
   "metadata": {},
   "source": [
    "#### If your pipeline ran successfully, you should now see scores added to your traces\n",
    "\n",
    "![Langfuse Trace with score added for readability](./images/scored_trace.png \"Scored trace on langfuse\")"
   ]
  },
  {
   "cell_type": "markdown",
   "id": "fab301d0",
   "metadata": {},
   "source": [
    "### Congratuations\n",
    "You have successfully finished Lab 3.1.\n",
    "\n",
    "If you are at an AWS event, you can return to the workshop studio for additional instructions before moving into the next lab, where we will explore GenAI guardrails."
   ]
  }
 ],
 "metadata": {
  "kernelspec": {
   "display_name": ".venv",
   "language": "python",
   "name": "python3"
  },
  "language_info": {
   "codemirror_mode": {
    "name": "ipython",
    "version": 3
   },
   "file_extension": ".py",
   "mimetype": "text/x-python",
   "name": "python",
   "nbconvert_exporter": "python",
   "pygments_lexer": "ipython3",
   "version": "3.12.3"
  }
 },
 "nbformat": 4,
 "nbformat_minor": 5
}
