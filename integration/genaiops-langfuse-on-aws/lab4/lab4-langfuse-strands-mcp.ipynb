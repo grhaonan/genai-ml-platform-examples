{
 "cells": [
  {
   "cell_type": "markdown",
   "metadata": {
    "pycharm": {
     "name": "#%% md\n"
    }
   },
   "source": [
    "# Evaluating Strands Agent with Observability with LangFuse\n",
    "\n",
    "## Overview\n",
    "In this module, we'll explore how to implement observability for [Strands Agent](https://strandsagents.com/latest/) using [Langfuse](https://langfuse.com/). Strands Agent enables you to build an intelligent AWS assistant by connecting foundation models to AWS services and resources, here's the link to [Strands Agent SDK's GitHub repo](https://github.com/strands-agents). While powerful AI agents can solve complex problems, understanding their behavior and performance requires robust observability solutions.\n",
    "\n",
    "Langfuse integration provides comprehensive visibility into your agent's operations, helping you monitor, debug, and optimize its performance. This module will guide you through implementing and leveraging Langfuse observability with Strands Agent to create more reliable, transparent, and effective AI solutions.\n",
    "\n",
    "Here's what you will learn from this module:\n",
    "1. Setup Lanfuse Observability \n",
    "2. Create a Strands Agent with [built-in tools](https://strandsagents.com/latest/documentation/docs/user-guide/concepts/tools/example-tools-package/) and trace it with Lanfuse\n",
    "3. Create a Strands Agent with [custom tools](https://strandsagents.com/latest/documentation/docs/user-guide/concepts/tools/python-tools/) and trace it with Lanfuse\n",
    "4. Lastly create a Strands Agent with [MCP tools](https://strandsagents.com/latest/documentation/docs/user-guide/concepts/tools/mcp-tools/) and trace it with Lanfuse\n",
    "\n",
    "## Agent Details\n",
    "<div style=\"float: left; margin-right: 20px;\">\n",
    "    \n",
    "|Feature             |Description                                              |\n",
    "|--------------------|---------------------------------------------------------|\n",
    "|Native tools used   |image_reader                                             |\n",
    "|Custom tools created|aws_health_status_checker                                |\n",
    "|MCP Tools           |aws_documentation_mcp_tool, aws_pricing_mcp_tool         |\n",
    "|Agent Structure     |Single agent architecture                                |\n",
    "|AWS services used   |Amazon Bedrock                                           |\n",
    "|Integrations        |LangFuse for observability                               |\n",
    "\n",
    "</div>\n",
    "\n"
   ]
  },
  {
   "cell_type": "markdown",
   "metadata": {},
   "source": [
    "## Architecture\n",
    "\n",
    "<div style=\"text-align:left\">\n",
    "    <img src=\"./image/architecture.png\" width=\"75%\" />\n",
    "</div>\n",
    "\n",
    "## Key Features\n",
    "- Fetches Strands agent interaction traces from Langfuse. You can also save these traces offline and use them here without Langfuse.\n",
    "- Evaluates conversations using specialized metrics for agents, tools\n",
    "- Pushes evaluation scores back to Langfuse for a complete feedback loop\n",
    "- Evaluate both single-turn (with context) and multi-turn conversations"
   ]
  },
  {
   "cell_type": "markdown",
   "metadata": {
    "pycharm": {
     "name": "#%% md\n"
    }
   },
   "source": [
    "## Setup and prerequisites\n",
    "\n",
    "### Prerequisites\n",
    "* Python 3.10+\n",
    "* AWS account\n",
    "* Anthropic Claude 4.0 on Amazon Bedrock\n",
    "* LangFuse Key\n",
    "\n",
    "Let's now install the requirement packages for our Strands Agent"
   ]
  },
  {
   "cell_type": "code",
   "execution_count": null,
   "metadata": {},
   "outputs": [],
   "source": [
    "# Uncomment the following line to install dependencies if you are not using AWS workshop environment\n",
    "# %pip install -q langfuse boto3  --upgrade"
   ]
  },
  {
   "cell_type": "code",
   "execution_count": null,
   "metadata": {
    "pycharm": {
     "name": "#%%\n"
    }
   },
   "outputs": [],
   "source": [
    "!uv pip install --force-reinstall -U -r ./requirements.txt --quiet"
   ]
  },
  {
   "cell_type": "markdown",
   "metadata": {},
   "source": [
    "Please make sure you have completed the prerequisites to setup the Langfuse project and API keys in the .env file to connect to self-hosted or cloud Langfuse environment.\n",
    "\n",
    "1. Navigate to the directory `genai-ml-platform-examples/integration/genaiops-langfuse-on-aws/` within your workshop environment.\n",
    "\n",
    "2. Locate the file named `.env.example` and create a copy of this file in the same directory, renaming the copy to `.env`.\n",
    "\n",
    "3. Open the `.env` file in your editor and prepare to add your actual Langfuse credentials. You will need three values from your Langfuse project settings under the API Keys section.\n",
    "\n",
    "The completed configuration in `.env` should follow this format:\n",
    "\n",
    "```\n",
    "LANGFUSE_PUBLIC_KEY=pk-lf-your-actual-public-key\n",
    "LANGFUSE_SECRET_KEY=sk-lf-your-actual-secret-key\n",
    "LANGFUSE_HOST=xxx\n",
    "```\n",
    "\n",
    "Save the file after adding your actual credential values. The notebook will load these environment variables automatically when executing the Langfuse integration exercises in agents two and three."
   ]
  },
  {
   "cell_type": "code",
   "execution_count": null,
   "metadata": {},
   "outputs": [],
   "source": [
    "# If you completed the .env setup above, skip this cell.\n",
    "# Otherwise, uncomment and set your Langfuse credentials below:\n",
    "\n",
    "# import os\n",
    "# os.environ[\"LANGFUSE_SECRET_KEY\"] = \"sk-lf-...\"  # Your Langfuse project secret key\n",
    "# os.environ[\"LANGFUSE_PUBLIC_KEY\"] = \"pk-lf-...\"  # Your Langfuse project public key\n",
    "# os.environ[\"LANGFUSE_HOST\"] = \"xxx\"  # Your Langfuse host URL"
   ]
  },
  {
   "cell_type": "markdown",
   "metadata": {
    "pycharm": {
     "name": "#%% md\n"
    }
   },
   "source": [
    "### Importing dependency packages\n",
    "\n",
    "Now let's import the dependency packages"
   ]
  },
  {
   "cell_type": "code",
   "execution_count": null,
   "metadata": {
    "pycharm": {
     "name": "#%%\n"
    }
   },
   "outputs": [],
   "source": [
    "import base64\n",
    "import json\n",
    "import os\n",
    "\n",
    "from dotenv import load_dotenv\n",
    "\n",
    "# Import MCP related modules\n",
    "from mcp import StdioServerParameters, stdio_client\n",
    "from strands import Agent, tool\n",
    "\n",
    "# Import Strands telemetry for OpenTelemetry integration\n",
    "from strands.telemetry import StrandsTelemetry\n",
    "from strands.tools.mcp import MCPClient\n",
    "from strands_tools import image_reader\n",
    "\n",
    "\n",
    "load_dotenv(\"../.env\")"
   ]
  },
  {
   "cell_type": "markdown",
   "metadata": {},
   "source": [
    "## Setting Strands Agents to emit LangFuse traces\n",
    "#### The first step here is to set Strands Agents to emit traces to LangFuse"
   ]
  },
  {
   "cell_type": "markdown",
   "metadata": {},
   "source": [
    "#### Configure the telemetry(Creates new tracer provider and sets it as global)"
   ]
  },
  {
   "cell_type": "code",
   "execution_count": null,
   "metadata": {},
   "outputs": [],
   "source": [
    "# Get keys for your project from the project settings page: https://cloud.langfuse.com\n",
    "langfuse_public_key = os.environ.get(\"LANGFUSE_PUBLIC_KEY\")\n",
    "langfuse_secret_key = os.environ.get(\"LANGFUSE_SECRET_KEY\")\n",
    "langfuse_host = os.environ.get(\"LANGFUSE_HOST\", \"https://cloud.langfuse.com\")\n",
    "\n",
    "if langfuse_public_key and langfuse_secret_key:\n",
    "    LANGFUSE_AUTH = base64.b64encode(f\"{langfuse_public_key}:{langfuse_secret_key}\".encode()).decode()\n",
    "\n",
    "    os.environ[\"OTEL_EXPORTER_OTLP_ENDPOINT\"] = langfuse_host + \"/api/public/otel\"\n",
    "    os.environ[\"OTEL_EXPORTER_OTLP_HEADERS\"] = f\"Authorization=Basic {LANGFUSE_AUTH}\"\n",
    "    print(\"Langfuse observability configured.\\n\")\n",
    "\n",
    "else:\n",
    "    print(\"Warning: Langfuse API keys not found. Observability will not be enabled.\")"
   ]
  },
  {
   "cell_type": "code",
   "execution_count": null,
   "metadata": {},
   "outputs": [],
   "source": [
    "try:\n",
    "    strands_telemetry = StrandsTelemetry().setup_otlp_exporter()\n",
    "    print(\"OpenTelemetry exporter configured for Langfuse.\")\n",
    "except ImportError:\n",
    "    print(\"Warning: OpenTelemetry exporter not available. Install with 'pip install opentelemetry-exporter-otlp'.\")\n",
    "    strands_telemetry = None"
   ]
  },
  {
   "cell_type": "markdown",
   "metadata": {},
   "source": [
    "## Build your first strands agent\n",
    "### Using the built in tool\n",
    "Tools are the primary mechanism for extending agent capabilities, enabling them to perform actions beyond simple text generation. Tools allow agents to interact with external systems, access data, and manipulate their environment.\n",
    "Strands offers built-in example tools to get started quickly experimenting with agents and tools during development. For more information, see Example [Built-in Tools](https://strandsagents.com/latest/documentation/docs/user-guide/concepts/tools/example-tools-package/)."
   ]
  },
  {
   "cell_type": "code",
   "execution_count": null,
   "metadata": {},
   "outputs": [],
   "source": [
    "# Customer query\n",
    "query = \"\"\"\n",
    "What is in the picture of image/aws-architecture.png in the current folder path\n",
    "\"\"\"\n",
    "\n",
    "# Building the strands agent with built-in tool image_read and including Lanfuse for tracing\n",
    "agent = Agent(\n",
    "    tools=[image_reader],\n",
    "    model=\"global.anthropic.claude-sonnet-4-5-20250929-v1:0\",  # Using Claude 4.0 Sonnet via Bedrock\n",
    "    name=\"strands-agent-built-in-tool-example\",\n",
    "    trace_attributes={\n",
    "        \"session.id\": \"aws-mcp-agent-demo-session\",\n",
    "        \"user.id\": \"example-user@example.com\",\n",
    "        \"langfuse.tags\": [\n",
    "            \"AWS-Strands-Agent\",\n",
    "            \"Built-In-Tool\",\n",
    "        ],\n",
    "        \"metadata\": {\"environment\": \"development\", \"version\": \"1.0.0\", \"query_type\": \"storage_recommendation\"},\n",
    "    },\n",
    ")\n",
    "\n",
    "try:\n",
    "    # Run the agent and get the response within the MCP client context\n",
    "    response = agent(query)\n",
    "except Exception as e:\n",
    "    print(f\"\\nError: {e}\")"
   ]
  },
  {
   "cell_type": "markdown",
   "metadata": {},
   "source": [
    "### Now go to your Lanfuse console, you should be able to see a new trace with the name \"strands_agent_built-in-tool-example\" appear. Have a look at what's in the trace.\n",
    "\n",
    "<div style=\"text-align:left\">\n",
    "    <img src=\"./image/trace1.jpg\" width=\"15%\" />\n",
    "    <img src=\"./image/trace2.png\" width=\"75%\" />\n",
    "</div>"
   ]
  },
  {
   "cell_type": "markdown",
   "metadata": {},
   "source": [
    "## Strands Agents with custom tools\n",
    "Define tools by creating Python modules that contain a tool specification and a matching function. This approach gives you more control over the tool's definition and is useful for dependency-free implementations of tools."
   ]
  },
  {
   "cell_type": "code",
   "execution_count": null,
   "metadata": {},
   "outputs": [],
   "source": [
    "import xml.etree.ElementTree as ET\n",
    "\n",
    "import requests\n",
    "\n",
    "\n",
    "# Using the @tool python decorator, creating a custom tool that uses the AWS Health Dashboard RSS feed URL to check AWS service status\n",
    "@tool\n",
    "def aws_health_status_checker(region: str = \"us-west-2\", service_name: str | None = None) -> dict:\n",
    "    \"\"\"\n",
    "    Check the current operational status of AWS services in a specific region using the public RSS feed.\n",
    "\n",
    "    Args:\n",
    "        region: AWS region to check (e.g., us-east-1, us-west-2)\n",
    "        service_name: Optional specific service to check (e.g., ec2, s3, lambda)\n",
    "                     If not provided, will return status for all services\n",
    "\n",
    "    Returns:\n",
    "        Dictionary containing service health information\n",
    "    \"\"\"\n",
    "    try:\n",
    "        # AWS Health Dashboard RSS feed URL\n",
    "        rss_url = \"https://status.aws.amazon.com/rss/all.rss\"\n",
    "\n",
    "        # Get the RSS feed\n",
    "        response = requests.get(rss_url, timeout=10)\n",
    "        response.raise_for_status()\n",
    "\n",
    "        # Parse the XML\n",
    "        root = ET.fromstring(response.content)\n",
    "\n",
    "        # Find all items (service events)\n",
    "        items = root.findall(\".//item\")\n",
    "\n",
    "        # Filter events by region and service\n",
    "        events = []\n",
    "        for item in items:\n",
    "            title = item.find(\"title\").text if item.find(\"title\") is not None else \"\"\n",
    "            description = item.find(\"description\").text if item.find(\"description\") is not None else \"\"\n",
    "            pub_date = item.find(\"pubDate\").text if item.find(\"pubDate\") is not None else \"\"\n",
    "            link = item.find(\"link\").text if item.find(\"link\") is not None else \"\"\n",
    "\n",
    "            # Check if this event is for the requested region and service\n",
    "            if region.lower() in title.lower() and (service_name is None or service_name.lower() in title.lower()):\n",
    "                events.append(\n",
    "                    {\"title\": title, \"description\": description, \"published_date\": pub_date, \"link\": link}\n",
    "                )\n",
    "\n",
    "        if not events:\n",
    "            return {\n",
    "                \"status\": \"healthy\",\n",
    "                \"message\": f\"All services in {region} appear to be operating normally\"\n",
    "                if not service_name\n",
    "                else f\"{service_name} in {region} appears to be operating normally\",\n",
    "                \"events\": [],\n",
    "            }\n",
    "\n",
    "        return {\n",
    "            \"status\": \"service_disruption\",\n",
    "            \"message\": f\"Service disruptions detected in {region}\",\n",
    "            \"events\": events,\n",
    "        }\n",
    "\n",
    "    except Exception as e:\n",
    "        return {\"status\": \"error\", \"message\": f\"Error checking AWS service status: {str(e)}\", \"events\": []}"
   ]
  },
  {
   "cell_type": "markdown",
   "metadata": {},
   "source": [
    "#### Create a Strands Agent with this custom tool"
   ]
  },
  {
   "cell_type": "code",
   "execution_count": null,
   "metadata": {},
   "outputs": [],
   "source": [
    "# Customer query\n",
    "query = \"\"\"\n",
    "Check AWS service status in the us-west-2 region.\n",
    "\"\"\"\n",
    "\n",
    "# Building the strands agent with the custom tool \"aws_health_status_checker\" defined above\n",
    "agent = Agent(\n",
    "    system_prompt=\"You are an AWS service checking agent, use the aws_service_status_checker to tell the user if the service status that they ask\",\n",
    "    tools=[aws_health_status_checker],\n",
    "    model=\"global.anthropic.claude-sonnet-4-5-20250929-v1:0\",  # Using Claude 4.5 Sonnet via Bedrock\n",
    "    name=\"strands-agent-custom-tool-example\",\n",
    "    trace_attributes={\n",
    "        \"session.id\": \"aws-mcp-agent-demo-session\",\n",
    "        \"user.id\": \"example-user@example.com\",\n",
    "        \"langfuse.tags\": [\n",
    "            \"AWS-Strands-Agent\",\n",
    "            \"Custom-Tool\",\n",
    "        ],\n",
    "        \"metadata\": {\"environment\": \"development\", \"version\": \"1.0.0\", \"query_type\": \"storage_recommendation\"},\n",
    "    },\n",
    ")\n",
    "\n",
    "try:\n",
    "    # Run the agent and get the response within the MCP client context\n",
    "    response = agent(query)\n",
    "except Exception as e:\n",
    "    print(f\"\\nError: {e}\")"
   ]
  },
  {
   "cell_type": "markdown",
   "metadata": {},
   "source": [
    "### Now go to your Lanfuse console again, you should be able to see a new trace with the name \"strands-agent-custom-tool-example\" appear. Have a look at what's in the trace."
   ]
  },
  {
   "cell_type": "markdown",
   "metadata": {},
   "source": [
    "## Strands Agents with MCP servers\n",
    "The [Model Context Protocol (MCP)](https://modelcontextprotocol.io/introduction) is an open protocol that standardizes how applications provide context to Large Language Models (LLMs). Strands Agents integrates with MCP to extend agent capabilities through external tools and services.\n",
    "\n",
    "MCP enables communication between agents and MCP servers that provide additional tools. Strands includes built-in support for connecting to MCP servers and using their tools.\n",
    "\n",
    "When working with MCP tools in Strands, all agent operations must be performed within the MCP client's context manager (using a with statement). This requirement ensures that the MCP session remains active and connected while the agent is using the tools. If you attempt to use an agent or its MCP tools outside of this context, you'll encounter errors because the MCP session will have closed."
   ]
  },
  {
   "cell_type": "markdown",
   "metadata": {},
   "source": [
    "#### Initialize MCP client for AWS documentation and AWS Pricing"
   ]
  },
  {
   "cell_type": "code",
   "execution_count": null,
   "metadata": {},
   "outputs": [],
   "source": [
    "aws_docs_mcp = MCPClient(\n",
    "    lambda: stdio_client(StdioServerParameters(command=\"uvx\", args=[\"awslabs.aws-documentation-mcp-server@latest\"]))\n",
    ")\n",
    "\n",
    "# Initialize MCP client for AWS pricing\n",
    "aws_pricing_mcp = MCPClient(\n",
    "    lambda: stdio_client(StdioServerParameters(command=\"uvx\", args=[\"awslabs.aws-pricing-mcp-server@latest\"]))\n",
    ")"
   ]
  },
  {
   "cell_type": "markdown",
   "metadata": {},
   "source": [
    "#### Test query that requires both AWS documentation and cost estimation"
   ]
  },
  {
   "cell_type": "code",
   "execution_count": null,
   "metadata": {},
   "outputs": [],
   "source": [
    "query = \"\"\"\n",
    "I'm planning to use S3 for storing 1TB of data.\n",
    "1. What storage class would you recommend for data that is accessed infrequently based on the aws document?\n",
    "2. Can you estimate the monthly cost for storing 1TB in this storage class?\n",
    "\"\"\"\n",
    "\n",
    "print(f\"\\n=== QUERY: {query} ===\\n\")\n",
    "print(\"Processing query...\")\n",
    "\n",
    "# IMPORTANT: Use the MCP client within a context manager\n",
    "with aws_docs_mcp, aws_pricing_mcp:\n",
    "    # Get the available tools from the MCP server\n",
    "    mcp_tools = aws_docs_mcp.list_tools_sync() + aws_pricing_mcp.list_tools_sync()\n",
    "    print(f\"Available MCP tools: {len(mcp_tools)} tools found\")\n",
    "\n",
    "    # Create the agent with our custom tools and MCP tools\n",
    "    agent = Agent(\n",
    "        system_prompt=\"\"\"You are an AWS assistant specialized in helping users with AWS-related tasks.\n",
    "        You can provide information about AWS services, estimate costs, and help manage AWS resources.\n",
    "\n",
    "        When answering questions:\n",
    "        1. Use the AWS documentation when needed to provide accurate information\n",
    "        2. Provide clear explanations with examples\n",
    "        3. Consider best practices and security recommendations\n",
    "        4. Be precise and accurate in your responses\n",
    "\n",
    "        For resource tagging, use the tag_aws_resources tool with the resource ID and tag key-value pairs.\n",
    "        For AWS documentation queries, use the AWS documentation MCP tools.\n",
    "        For cost estimation, use the AWS Pricing MCP tools.\n",
    "        \"\"\",\n",
    "        tools=[\n",
    "            # MCP tools\n",
    "            *mcp_tools\n",
    "        ],\n",
    "        model=\"anthropic.claude-3-5-sonnet-20241022-v2:0\",  # Using Claude 3.5 Sonnet via Bedrock\n",
    "        name=\"strands-agent-mcp_example\",\n",
    "        trace_attributes={\n",
    "            \"session.id\": \"aws-mcp-agent-demo-session\",\n",
    "            \"user.id\": \"example-user@example.com\",\n",
    "            \"langfuse.tags\": [\"AWS-MCP-Agent\", \"MCP\"],\n",
    "            \"metadata\": {\"environment\": \"development\", \"version\": \"1.0.0\", \"query_type\": \"storage_recommendation\"},\n",
    "        },\n",
    "    )\n",
    "\n",
    "    try:\n",
    "        # Run the agent and get the response within the MCP client context\n",
    "        response = agent(query)\n",
    "        # print(\"\\nAgent messages:\")\n",
    "        # print(json.dumps(agent.messages, indent=4))\n",
    "    except Exception as e:\n",
    "        print(f\"\\nError: {e}\")"
   ]
  },
  {
   "cell_type": "markdown",
   "metadata": {},
   "source": [
    "#### Now you know the drill, go to your Lanfuse console, you should be able to see a new trace with the name \"strands-agent-mc-example\" appear. Have a look at what's in the trace."
   ]
  },
  {
   "cell_type": "markdown",
   "metadata": {},
   "source": [
    "#### You can also use the built in tracing to show what the agent traces locally"
   ]
  },
  {
   "cell_type": "code",
   "execution_count": null,
   "metadata": {},
   "outputs": [],
   "source": [
    "print(\"\\nAgent messages:\")\n",
    "print(json.dumps(agent.messages, indent=4))"
   ]
  },
  {
   "cell_type": "markdown",
   "metadata": {},
   "source": [
    "You can go to the Langfuse console to see the details of the traces."
   ]
  },
  {
   "cell_type": "markdown",
   "metadata": {},
   "source": [
    "## Lab4 Summary:\n",
    "\n",
    "In Lab 4, we explored advanced observability for **Strands Agents** using `Langfuse`, demonstrating three distinct\n",
    "tool integration approaches with comprehensive tracing capabilities. \n",
    "\n",
    "We successfully implemented built-in tools using the `image_reader` for AWS architecture analysis, created custom tools like the \n",
    "`aws_health_status_checker` for real-time service monitoring, and integrated `MCP (Model Context Protocol)` tools combining AWS Documentation and Pricing servers for complex multi-tool workflows. The key achievement was establishing complete observability through OpenTelemetry integration with StrandsTelemetry, enabling real-time monitoring of agent decision-making processes, tool usage patterns, and performance metrics in the Langfuse console. \n",
    "\n",
    "As we conclude this lab, you've gained valuable experience in building transparent, monitorable AI agents that transform from black boxes into production-ready systems with comprehensive observability, preparing you for deploying robust agentic systems with confidence in enterprise environments."
   ]
  }
 ],
 "metadata": {
  "kernelspec": {
   "display_name": ".venv",
   "language": "python",
   "name": "python3"
  },
  "language_info": {
   "codemirror_mode": {
    "name": "ipython",
    "version": 3
   },
   "file_extension": ".py",
   "mimetype": "text/x-python",
   "name": "python",
   "nbconvert_exporter": "python",
   "pygments_lexer": "ipython3",
   "version": "3.12.3"
  }
 },
 "nbformat": 4,
 "nbformat_minor": 4
}
